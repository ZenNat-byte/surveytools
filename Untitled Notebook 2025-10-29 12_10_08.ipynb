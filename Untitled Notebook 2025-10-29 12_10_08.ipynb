{
 "cells": [
  {
   "cell_type": "code",
   "execution_count": 0,
   "metadata": {
    "application/vnd.databricks.v1+cell": {
     "cellMetadata": {
      "byteLimit": 2048000,
      "rowLimit": 10000
     },
     "inputWidgets": {},
     "nuid": "f6d9b4f6-66ab-43d7-9555-6dfd3af71674",
     "showTitle": false,
     "tableResultSettingsMap": {},
     "title": ""
    }
   },
   "outputs": [],
   "source": [
    "# Create a minimal, installable package in the current Git folder\n",
    "import os, textwrap, pathlib\n",
    "\n",
    "BASE = pathlib.Path(\"/Workspace/teams/survey_team/Core_automation/Correct code/surveytools\")  # <- your Git folder\n",
    "os.makedirs(BASE / \"src\" / \"surveytools\", exist_ok=True)\n",
    "\n",
    "# 1) pyproject.toml\n",
    "(BASE / \"pyproject.toml\").write_text(textwrap.dedent(\"\"\"\n",
    "[build-system]\n",
    "requires = [\"setuptools>=68\", \"wheel\"]\n",
    "build-backend = \"setuptools.build_meta\"\n",
    "\n",
    "[project]\n",
    "name = \"surveytools\"\n",
    "version = \"0.1.0\"\n",
    "description = \"Survey pipeline: Likert mapping UI → summaries → reporting (charts/PPTX) + CLI\"\n",
    "requires-python = \">=3.9\"\n",
    "dependencies = [\n",
    "  \"pandas>=1.5\",\n",
    "  \"numpy>=1.24\",\n",
    "  \"openpyxl>=3.1\",\n",
    "  \"matplotlib>=3.7\",\n",
    "  \"python-pptx>=0.6.21\",\n",
    "  \"ftfy>=6.1; python_version >= '3.9'\",\n",
    "]\n",
    "optional-dependencies = { widgets = [\"ipywidgets>=8.0\", \"ipython>=8.0\"] }\n",
    "\"\"\").strip()+\"\\n\", encoding=\"utf-8\")\n",
    "\n",
    "# 2) minimal package files (you can paste your full versions later)\n",
    "(BASE / \"src\" / \"surveytools\" / \"__init__.py\").write_text(\"print('surveytools imported');\\n\", encoding=\"utf-8\")\n",
    "print(\"✅ Wrote pyproject + src/surveytools/__init__.py\")\n"
   ]
  }
 ],
 "metadata": {
  "application/vnd.databricks.v1+notebook": {
   "computePreferences": null,
   "dashboards": [],
   "environmentMetadata": {
    "base_environment": "",
    "environment_version": "4"
   },
   "inputWidgetPreferences": null,
   "language": "python",
   "notebookMetadata": {
    "pythonIndentUnit": 4
   },
   "notebookName": "Untitled Notebook 2025-10-29 12_10_08",
   "widgets": {}
  },
  "language_info": {
   "name": "python"
  }
 },
 "nbformat": 4,
 "nbformat_minor": 0
}
