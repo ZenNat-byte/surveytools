{
 "cells": [
  {
   "cell_type": "code",
   "execution_count": 0,
   "metadata": {
    "application/vnd.databricks.v1+cell": {
     "cellMetadata": {
      "byteLimit": 2048000,
      "rowLimit": 10000
     },
     "inputWidgets": {},
     "nuid": "aaefdd42-5e55-4568-b74a-bd1a45cdc5a3",
     "showTitle": false,
     "tableResultSettingsMap": {},
     "title": ""
    }
   },
   "outputs": [],
   "source": [
    "# src/surveytools/constants.py\n",
    "ZC_TURQUOISE = \"#3BD1BB\"; ZC_CREAM = \"#FCF5F1\"; ZC_BEIGE = \"#EEE2DB\"; ZC_YELLOW = \"#FAD565\"\n",
    "ZC_NIGHT = \"#191824\"; ZC_TEAL = \"#148578\"; ZC_MINT = \"#79E8D7\"; ZC_BLUE = \"#7385FF\"\n",
    "ZC_WHITE = \"#FFFFFF\"; ZC_CORAL = \"#FDA891\"; ZC_BG = ZC_CREAM\n",
    "\n",
    "ZERO_ALIASES = {\n",
    "    \"prefer not to say\",\"prefer not to answer\",\"don't know\",\"do not know\",\"unsure\",\n",
    "    \"not applicable\",\"na\",\"n/a\",\"n.a.\",\"none\"\n",
    "}\n",
    "PRESETS = {\n",
    "    \"Satisfaction (Very→Very)\": [\n",
    "        (\"very unsatisfied\", 1), (\"somewhat unsatisfied\", 2),\n",
    "        (\"neither satisfied nor unsatisfied\", 3), (\"somewhat satisfied\", 4), (\"very satisfied\", 5),\n",
    "    ],\n",
    "    \"Agreement (Strongly→Strongly)\": [\n",
    "        (\"strongly disagree\", 1), (\"disagree\", 2), (\"neutral\", 3), (\"agree\", 4), (\"strongly agree\", 5),\n",
    "    ],\n",
    "    \"Safety (Not safe→Very safe)\": [\n",
    "        (\"not safe at all\", 1), (\"not very safe\", 2), (\"neutral\", 3), (\"quite safe\", 4), (\"very safe\", 5),\n",
    "    ],\n",
    "    \"Ease (Very difficult→Very easy)\": [\n",
    "        (\"very difficult\", 1), (\"somewhat difficult\", 2), (\"neutral\", 3), (\"somewhat easy\", 4), (\"very easy\", 5),\n",
    "    ],\n",
    "}\n"
   ]
  }
 ],
 "metadata": {
  "application/vnd.databricks.v1+notebook": {
   "computePreferences": null,
   "dashboards": [],
   "environmentMetadata": {
    "base_environment": "",
    "environment_version": "4"
   },
   "inputWidgetPreferences": null,
   "language": "python",
   "notebookMetadata": {
    "pythonIndentUnit": 4
   },
   "notebookName": "constants",
   "widgets": {}
  },
  "language_info": {
   "name": "python"
  }
 },
 "nbformat": 4,
 "nbformat_minor": 0
}
