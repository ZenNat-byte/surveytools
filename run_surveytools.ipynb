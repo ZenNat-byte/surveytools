{
 "cells": [
  {
   "cell_type": "code",
   "execution_count": 0,
   "metadata": {
    "application/vnd.databricks.v1+cell": {
     "cellMetadata": {
      "byteLimit": 2048000,
      "rowLimit": 10000
     },
     "inputWidgets": {},
     "nuid": "4e1f1435-a5fc-453b-8ec3-ccad2fad4b90",
     "showTitle": false,
     "tableResultSettingsMap": {},
     "title": ""
    }
   },
   "outputs": [],
   "source": [
    "# 1) Remove any stale install, then install your local package (editable)\n",
    "%pip uninstall -y surveytools\n",
    "%pip install -e \"/Workspace/teams/survey_team/Core_automation/Correct code/surveytools\" --verbose\n"
   ]
  },
  {
   "cell_type": "code",
   "execution_count": 0,
   "metadata": {
    "application/vnd.databricks.v1+cell": {
     "cellMetadata": {
      "byteLimit": 2048000,
      "rowLimit": 10000
     },
     "inputWidgets": {},
     "nuid": "c300a384-8aef-44b8-bb95-361932b502b7",
     "showTitle": false,
     "tableResultSettingsMap": {},
     "title": ""
    }
   },
   "outputs": [],
   "source": [
    "# 2) Restart the Python worker in THIS notebook\n",
    "dbutils.library.restartPython()\n"
   ]
  },
  {
   "cell_type": "code",
   "execution_count": 0,
   "metadata": {
    "application/vnd.databricks.v1+cell": {
     "cellMetadata": {
      "byteLimit": 2048000,
      "rowLimit": 10000
     },
     "inputWidgets": {},
     "nuid": "37e566ae-bfa2-48b5-bf46-deeac03a1a7d",
     "showTitle": false,
     "tableResultSettingsMap": {},
     "title": ""
    }
   },
   "outputs": [],
   "source": [
    "# 3) Confirm Python can see the installed package\n",
    "import sys, importlib.metadata as im\n",
    "\n",
    "print(\"Top sys.path[0..3]:\")\n",
    "print(\"\\n\".join(sys.path[:4]))\n",
    "\n",
    "# Is the distribution installed into this environment?\n",
    "names = [d.metadata.get(\"Name\",\"\").lower() for d in im.distributions()]\n",
    "print(\"\\n'surveytools' present in installed dists? ->\", \"surveytools\" in names)\n",
    "\n",
    "# Try importing\n",
    "from surveytools.types import SummaryConfig\n",
    "SummaryConfig()\n"
   ]
  },
  {
   "cell_type": "code",
   "execution_count": 0,
   "metadata": {
    "application/vnd.databricks.v1+cell": {
     "cellMetadata": {
      "byteLimit": 2048000,
      "rowLimit": 10000
     },
     "inputWidgets": {},
     "nuid": "ffab5fac-1594-4208-97be-57fbceda3430",
     "showTitle": false,
     "tableResultSettingsMap": {},
     "title": ""
    }
   },
   "outputs": [],
   "source": [
    "import sys, os\n",
    "\n",
    "# 4) Add your package's src folder to Python's search path for THIS notebook session\n",
    "sys.path.insert(0, \"/Workspace/teams/survey_team/Core_automation/Correct code/surveytools/src\")\n",
    "\n",
    "# 5) Now import\n",
    "from surveytools.types import SummaryConfig\n",
    "SummaryConfig()\n"
   ]
  },
  {
   "cell_type": "code",
   "execution_count": 0,
   "metadata": {
    "application/vnd.databricks.v1+cell": {
     "cellMetadata": {
      "byteLimit": 2048000,
      "rowLimit": 10000
     },
     "inputWidgets": {},
     "nuid": "b6dc60b2-27d0-4561-a12c-88ae2f37bda4",
     "showTitle": false,
     "tableResultSettingsMap": {},
     "title": ""
    }
   },
   "outputs": [],
   "source": [
    "# import bootstrap (keep at top of notebooks that use surveytools)\n",
    "import sys\n",
    "SRC = \"/Workspace/teams/survey_team/Core_automation/Correct code/surveytools/src\"\n",
    "if SRC not in sys.path:\n",
    "    sys.path.insert(0, SRC)\n"
   ]
  },
  {
   "cell_type": "code",
   "execution_count": 0,
   "metadata": {
    "application/vnd.databricks.v1+cell": {
     "cellMetadata": {
      "byteLimit": 2048000,
      "rowLimit": 10000
     },
     "inputWidgets": {},
     "nuid": "3b3501e3-4801-4f09-add6-3724b32b33b3",
     "showTitle": false,
     "tableResultSettingsMap": {},
     "title": ""
    }
   },
   "outputs": [],
   "source": [
    "from surveytools.constants import ZC_TURQUOISE, ZERO_ALIASES, PRESETS\n",
    "print(\"One color:\", ZC_TURQUOISE)\n",
    "print(\"ZERO_ALIASES count:\", len(ZERO_ALIASES))\n",
    "print(\"Preset keys:\", list(PRESETS.keys()))\n"
   ]
  }
 ],
 "metadata": {
  "application/vnd.databricks.v1+notebook": {
   "computePreferences": null,
   "dashboards": [],
   "environmentMetadata": {
    "base_environment": "",
    "environment_version": "4"
   },
   "inputWidgetPreferences": null,
   "language": "python",
   "notebookMetadata": {
    "pythonIndentUnit": 4
   },
   "notebookName": "run_surveytools",
   "widgets": {}
  },
  "language_info": {
   "name": "python"
  }
 },
 "nbformat": 4,
 "nbformat_minor": 0
}
