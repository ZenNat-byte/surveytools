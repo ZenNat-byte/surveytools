{
 "cells": [
  {
   "cell_type": "code",
   "execution_count": 0,
   "metadata": {
    "application/vnd.databricks.v1+cell": {
     "cellMetadata": {
      "byteLimit": 2048000,
      "rowLimit": 10000
     },
     "inputWidgets": {},
     "nuid": "4e1f1435-a5fc-453b-8ec3-ccad2fad4b90",
     "showTitle": false,
     "tableResultSettingsMap": {},
     "title": ""
    }
   },
   "outputs": [],
   "source": [
    "%cd /Workspace/teams/survey_team/Core_automation/Correct_code/surveytools\n",
    "%pip uninstall -y surveytools\n",
    "%pip install -e \".[widgets]\"\n"
   ]
  },
  {
   "cell_type": "code",
   "execution_count": 0,
   "metadata": {
    "application/vnd.databricks.v1+cell": {
     "cellMetadata": {
      "byteLimit": 2048000,
      "rowLimit": 10000
     },
     "inputWidgets": {},
     "nuid": "c300a384-8aef-44b8-bb95-361932b502b7",
     "showTitle": false,
     "tableResultSettingsMap": {},
     "title": ""
    }
   },
   "outputs": [],
   "source": [
    "from pathlib import Path\n",
    "import sys, importlib.metadata as im\n",
    "\n",
    "BASE = Path(\"/Workspace/teams/survey_team/Core_automation/Correct code/surveytools\")\n",
    "print(\"Repo path:\", BASE)\n",
    "print(\"Has pyproject.toml? \", (BASE/\"pyproject.toml\").exists())\n",
    "print(\"Has src/surveytools/__init__.py? \", (BASE/\"src\"/\"surveytools\"/\"__init__.py\").exists())\n",
    "\n",
    "print(\"\\nTop sys.path entries:\", *sys.path[:5], sep=\"\\n- \")\n",
    "\n",
    "try:\n",
    "    dist = im.distribution(\"surveytools\")\n",
    "    print(\"\\nInstalled distribution FOUND:\")\n",
    "    print(\"  version:\", dist.version)\n",
    "    print(\"  location:\", dist.locate_file(\"\"))\n",
    "except Exception as e:\n",
    "    print(\"\\nInstalled distribution NOT FOUND:\", e)\n"
   ]
  },
  {
   "cell_type": "code",
   "execution_count": 0,
   "metadata": {
    "application/vnd.databricks.v1+cell": {
     "cellMetadata": {
      "byteLimit": 2048000,
      "rowLimit": 10000
     },
     "inputWidgets": {},
     "nuid": "6d576fb5-20de-4c55-a7d2-d58c3c7339b8",
     "showTitle": false,
     "tableResultSettingsMap": {},
     "title": ""
    }
   },
   "outputs": [],
   "source": [
    "import surveytools\n"
   ]
  }
 ],
 "metadata": {
  "application/vnd.databricks.v1+notebook": {
   "computePreferences": null,
   "dashboards": [],
   "environmentMetadata": {
    "base_environment": "",
    "environment_version": "4"
   },
   "inputWidgetPreferences": null,
   "language": "python",
   "notebookMetadata": {
    "pythonIndentUnit": 4
   },
   "notebookName": "run_surveytools",
   "widgets": {}
  },
  "language_info": {
   "name": "python"
  }
 },
 "nbformat": 4,
 "nbformat_minor": 0
}
