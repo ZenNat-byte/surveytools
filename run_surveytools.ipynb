{
 "cells": [
  {
   "cell_type": "code",
   "execution_count": 0,
   "metadata": {
    "application/vnd.databricks.v1+cell": {
     "cellMetadata": {
      "byteLimit": 2048000,
      "rowLimit": 10000
     },
     "inputWidgets": {},
     "nuid": "40d5cbe1-b629-4ea4-a8a5-10913b989ae1",
     "showTitle": false,
     "tableResultSettingsMap": {},
     "title": ""
    }
   },
   "outputs": [],
   "source": [
    "%load_ext autoreload\n",
    "%autoreload 2\n",
    "# Enables autoreload; learn more at https://docs.databricks.com/en/files/workspace-modules.html#autoreload-for-python-modules\n",
    "# To disable autoreload; run %autoreload 0"
   ]
  },
  {
   "cell_type": "code",
   "execution_count": 0,
   "metadata": {
    "application/vnd.databricks.v1+cell": {
     "cellMetadata": {
      "byteLimit": 2048000,
      "rowLimit": 10000
     },
     "inputWidgets": {},
     "nuid": "fa0be0d1-3a93-42b5-a8df-2b98a327bcfa",
     "showTitle": false,
     "tableResultSettingsMap": {},
     "title": ""
    }
   },
   "outputs": [],
   "source": [
    "%load_ext autoreload\n",
    "%autoreload 2\n",
    "# Enables autoreload; learn more at https://docs.databricks.com/en/files/workspace-modules.html#autoreload-for-python-modules\n",
    "# To disable autoreload; run %autoreload 0"
   ]
  },
  {
   "cell_type": "code",
   "execution_count": 0,
   "metadata": {
    "application/vnd.databricks.v1+cell": {
     "cellMetadata": {
      "byteLimit": 2048000,
      "rowLimit": 10000
     },
     "inputWidgets": {},
     "nuid": "4e1f1435-a5fc-453b-8ec3-ccad2fad4b90",
     "showTitle": false,
     "tableResultSettingsMap": {},
     "title": ""
    }
   },
   "outputs": [],
   "source": [
    "# 1) Remove any stale install, then install your local package (editable)\n",
    "%pip uninstall -y surveytools\n",
    "%pip install -e \"/Workspace/teams/survey_team/Core_automation/Correct code/surveytools\" --verbose\n"
   ]
  },
  {
   "cell_type": "code",
   "execution_count": 0,
   "metadata": {
    "application/vnd.databricks.v1+cell": {
     "cellMetadata": {
      "byteLimit": 2048000,
      "rowLimit": 10000
     },
     "inputWidgets": {},
     "nuid": "c300a384-8aef-44b8-bb95-361932b502b7",
     "showTitle": false,
     "tableResultSettingsMap": {},
     "title": ""
    }
   },
   "outputs": [],
   "source": [
    "# 2) Restart the Python worker in THIS notebook\n",
    "dbutils.library.restartPython()\n"
   ]
  },
  {
   "cell_type": "code",
   "execution_count": 0,
   "metadata": {
    "application/vnd.databricks.v1+cell": {
     "cellMetadata": {
      "byteLimit": 2048000,
      "rowLimit": 10000
     },
     "inputWidgets": {},
     "nuid": "37e566ae-bfa2-48b5-bf46-deeac03a1a7d",
     "showTitle": false,
     "tableResultSettingsMap": {},
     "title": ""
    }
   },
   "outputs": [],
   "source": [
    "# 3) Confirm Python can see the installed package\n",
    "import sys, importlib.metadata as im\n",
    "\n",
    "print(\"Top sys.path[0..3]:\")\n",
    "print(\"\\n\".join(sys.path[:4]))\n",
    "\n",
    "# Is the distribution installed into this environment?\n",
    "names = [d.metadata.get(\"Name\",\"\").lower() for d in im.distributions()]\n",
    "print(\"\\n'surveytools' present in installed dists? ->\", \"surveytools\" in names)\n",
    "\n",
    "# Try importing\n",
    "from surveytools.types import SummaryConfig\n",
    "SummaryConfig()\n"
   ]
  },
  {
   "cell_type": "code",
   "execution_count": 0,
   "metadata": {
    "application/vnd.databricks.v1+cell": {
     "cellMetadata": {
      "byteLimit": 2048000,
      "rowLimit": 10000
     },
     "inputWidgets": {},
     "nuid": "ffab5fac-1594-4208-97be-57fbceda3430",
     "showTitle": false,
     "tableResultSettingsMap": {},
     "title": ""
    }
   },
   "outputs": [],
   "source": [
    "import sys, os\n",
    "\n",
    "# 4) Add your package's src folder to Python's search path for THIS notebook session\n",
    "sys.path.insert(0, \"/Workspace/teams/survey_team/Core_automation/Correct code/surveytools/src\")\n",
    "\n",
    "# 5) Now import\n",
    "from surveytools.types import SummaryConfig\n",
    "SummaryConfig()\n"
   ]
  },
  {
   "cell_type": "code",
   "execution_count": 0,
   "metadata": {
    "application/vnd.databricks.v1+cell": {
     "cellMetadata": {
      "byteLimit": 2048000,
      "rowLimit": 10000
     },
     "inputWidgets": {},
     "nuid": "b6dc60b2-27d0-4561-a12c-88ae2f37bda4",
     "showTitle": false,
     "tableResultSettingsMap": {},
     "title": ""
    }
   },
   "outputs": [],
   "source": [
    "# import bootstrap (keep at top of notebooks that use surveytools)\n",
    "import sys\n",
    "SRC = \"/Workspace/teams/survey_team/Core_automation/Correct code/surveytools/src\"\n",
    "if SRC not in sys.path:\n",
    "    sys.path.insert(0, SRC)\n"
   ]
  },
  {
   "cell_type": "code",
   "execution_count": 0,
   "metadata": {
    "application/vnd.databricks.v1+cell": {
     "cellMetadata": {
      "byteLimit": 2048000,
      "rowLimit": 10000
     },
     "inputWidgets": {},
     "nuid": "3b3501e3-4801-4f09-add6-3724b32b33b3",
     "showTitle": false,
     "tableResultSettingsMap": {},
     "title": ""
    }
   },
   "outputs": [],
   "source": [
    "from surveytools.constants import ZC_TURQUOISE, ZERO_ALIASES, PRESETS\n",
    "print(\"One color:\", ZC_TURQUOISE)\n",
    "print(\"ZERO_ALIASES count:\", len(ZERO_ALIASES))\n",
    "print(\"Preset keys:\", list(PRESETS.keys()))\n"
   ]
  },
  {
   "cell_type": "code",
   "execution_count": 0,
   "metadata": {
    "application/vnd.databricks.v1+cell": {
     "cellMetadata": {
      "byteLimit": 2048000,
      "rowLimit": 10000
     },
     "inputWidgets": {},
     "nuid": "2e045948-a67e-46c0-9c29-299876030d75",
     "showTitle": false,
     "tableResultSettingsMap": {},
     "title": ""
    }
   },
   "outputs": [],
   "source": [
    "import pandas as pd\n",
    "from surveytools.cleaning import fix_df_text, fill_client_tokens, is_likert_candidate, norm_key, normalized\n",
    "\n",
    "# tiny sample\n",
    "df = pd.DataFrame({\n",
    "    \"client_name\": [\"Zebra City\", None],\n",
    "    \"Q1: How is %client_name%? (general)\": [\"Very good\", \"very  good  \"],\n",
    "    \"comment\": [\"I love %client_name%!\", None]\n",
    "})\n",
    "\n",
    "fixed = fix_df_text(df)\n",
    "filled = fill_client_tokens(fixed)\n",
    "\n",
    "print(\"Columns after fill_client_tokens:\")\n",
    "print(list(filled.columns))\n",
    "print(\"\\nCell example:\", filled.loc[0, \"comment\"])\n",
    "print(\"\\nLikert candidate?\", is_likert_candidate(filled[\"Q1: How is Zebra City? (general)\"]))\n",
    "print(\"norm_key('  Very   Good '):\", norm_key(\"  Very   Good \"))\n",
    "print(\"normalized('  keep Case  '):\", normalized(\"  keep Case  \"))\n"
   ]
  },
  {
   "cell_type": "code",
   "execution_count": 0,
   "metadata": {
    "application/vnd.databricks.v1+cell": {
     "cellMetadata": {
      "byteLimit": 2048000,
      "rowLimit": 10000
     },
     "inputWidgets": {},
     "nuid": "0f2d36f5-9827-4b47-9926-c4529bec371b",
     "showTitle": false,
     "tableResultSettingsMap": {},
     "title": ""
    }
   },
   "outputs": [],
   "source": [
    "with open(\"src/surveytools/summarize.py\", \"r\") as f:\n",
    "    for i, line in enumerate(f, start=1):\n",
    "        if \"\\t\" in line:\n",
    "            print(f\"Line {i} contains a tab character.\")"
   ]
  },
  {
   "cell_type": "code",
   "execution_count": 0,
   "metadata": {
    "application/vnd.databricks.v1+cell": {
     "cellMetadata": {
      "byteLimit": 2048000,
      "rowLimit": 10000
     },
     "inputWidgets": {},
     "nuid": "fac8fbde-a030-40c5-9b62-ba520c96089a",
     "showTitle": false,
     "tableResultSettingsMap": {},
     "title": ""
    }
   },
   "outputs": [],
   "source": [
    "import importlib, surveytools.summarize\n",
    "importlib.reload(surveytools.summarize)\n",
    "from surveytools.summarize import TableSummarizer\n"
   ]
  },
  {
   "cell_type": "code",
   "execution_count": 0,
   "metadata": {
    "application/vnd.databricks.v1+cell": {
     "cellMetadata": {
      "byteLimit": 2048000,
      "rowLimit": 10000
     },
     "inputWidgets": {},
     "nuid": "3f9c10eb-a1fc-4072-97ce-af50ec7a71c5",
     "showTitle": false,
     "tableResultSettingsMap": {},
     "title": ""
    }
   },
   "outputs": [],
   "source": [
    "import pandas as pd\n",
    "from surveytools.summarize import TableSummarizer\n",
    "from surveytools.types import SummaryConfig\n",
    "\n",
    "# toy dataset\n",
    "df = pd.DataFrame({\n",
    "    \"response_id\": [1,2,3,4,5,6],\n",
    "    \"latest_weight\": [1,1,1,1,1,1],\n",
    "    \"gender (demographics)\": [\"Female\",\"Male\",\"Female\",\"Female\",\"Male\",\"Female\"],\n",
    "    # a scale-like column (values already in \"label: number\" format)\n",
    "    \"Q1 Satisfaction (general)\": [\"Very satisfied: 5\",\"Somewhat satisfied: 4\",\"Neutral: 3\",\n",
    "                                  \"Somewhat satisfied: 4\",\"Very satisfied: 5\",\"Neutral: 3\"],\n",
    "    # a single-choice column\n",
    "    \"Q2 Favorite Fruit\": [\"Apple\",\"Banana\",\"Apple\",\"Orange\",\"Apple\",\"Banana\"]\n",
    "})\n",
    "\n",
    "summ = TableSummarizer(df, SummaryConfig())\n",
    "print(\"Group options:\", summ.group_options)\n",
    "print(\"Question options:\", summ.question_options)\n",
    "\n",
    "# Scale example\n",
    "res1 = summ.summarize_overall_and_demo(\"Q1 Satisfaction (general)\", [\"gender (demographics)\"])\n",
    "print(\"\\n--- Q1 summary (head) ---\")\n",
    "print(res1.head())\n",
    "\n",
    "# Choice example\n",
    "res2 = summ.summarize_overall_and_demo(\"Q2 Favorite Fruit\", [\"gender (demographics)\"])\n",
    "print(\"\\n--- Q2 summary (head) ---\")\n",
    "print(res2.head())\n"
   ]
  },
  {
   "cell_type": "code",
   "execution_count": 0,
   "metadata": {
    "application/vnd.databricks.v1+cell": {
     "cellMetadata": {
      "byteLimit": 2048000,
      "rowLimit": 10000
     },
     "inputWidgets": {},
     "nuid": "720af492-bab2-4751-a673-a8052a1f40ae",
     "showTitle": false,
     "tableResultSettingsMap": {},
     "title": ""
    }
   },
   "outputs": [],
   "source": [
    "%pip install \"ipywidgets>=8,<9\" \"ipython>=8\"\n",
    "# then click \"Restart Python\" when prompted\n",
    "\n"
   ]
  },
  {
   "cell_type": "code",
   "execution_count": 0,
   "metadata": {
    "application/vnd.databricks.v1+cell": {
     "cellMetadata": {
      "byteLimit": 2048000,
      "rowLimit": 10000
     },
     "inputWidgets": {},
     "nuid": "680a891f-6fa3-4f5a-a464-7fecdfc19563",
     "showTitle": false,
     "tableResultSettingsMap": {},
     "title": ""
    }
   },
   "outputs": [],
   "source": [
    "from importlib import reload\n",
    "import surveytools.likert_mapper as lm_mod\n",
    "reload(lm_mod)  # pick up your latest edit\n",
    "\n",
    "import pandas as pd\n",
    "from surveytools.likert_mapper import LikertMapper\n",
    "\n",
    "df = pd.DataFrame({\n",
    "    \"Q1 Satisfaction (general)\": [\"very satisfied\",\"somewhat satisfied\",\"neutral\",\"prefer not to say\", None]\n",
    "})\n",
    "\n",
    "lm = LikertMapper(df)\n",
    "print(\"LikertMapper imported. Widgets available?\", lm_mod.W is not None)\n",
    "\n",
    "# (Optional) simulate a quick mapping without UI:\n",
    "lm.SHARED_MAP = {\n",
    "    \"very satisfied\": 5,\n",
    "    \"somewhat satisfied\": 4,\n",
    "    \"neutral\": 3,\n",
    "}\n",
    "# Apply mapping to that one column (headless)\n",
    "lm._apply_mapping_to_column(\"Q1 Satisfaction (general)\")\n",
    "df.head()\n"
   ]
  },
  {
   "cell_type": "code",
   "execution_count": 0,
   "metadata": {
    "application/vnd.databricks.v1+cell": {
     "cellMetadata": {
      "byteLimit": 2048000,
      "rowLimit": 10000
     },
     "inputWidgets": {},
     "nuid": "7f545a38-256a-4295-a9bf-1361fea2d273",
     "showTitle": false,
     "tableResultSettingsMap": {},
     "title": ""
    }
   },
   "outputs": [],
   "source": [
    "import pandas as pd\n",
    "from surveytools.bulk_assistant import bulk_export_headless\n",
    "from surveytools.types import SummaryConfig\n",
    "\n",
    "# Example df (replace with your real one)\n",
    "df = pd.DataFrame({\n",
    "    \"response_id\":[1,2,3,4,5,6],\n",
    "    \"gender (demographics)\":[\"Female\",\"Male\",\"Female\",\"Male\",\"Female\",\"Male\"],\n",
    "    \"Q1 Satisfaction (general)\":[\n",
    "        \"very satisfied: 5\",\"somewhat satisfied: 4\",\"neutral: 3\",\n",
    "        \"very satisfied: 5\",\"somewhat satisfied: 4\",\"prefer not to say: 0\"\n",
    "    ],\n",
    "    \"Q2 Favorite Fruit\":[\n",
    "        \"Apple\",\"Apple|Banana\",\"Banana\",\"Orange\",\"Apple\",\"Other: Grapes\"\n",
    "    ],\n",
    "    \"latest_weight\":[1,1,1,1,1,1],\n",
    "})\n",
    "\n",
    "out = bulk_export_headless(\n",
    "    df,\n",
    "    groups=[\"gender (demographics)\"],\n",
    "    filename=\"All_Questions_Summary.xlsx\",\n",
    "    config=SummaryConfig(output_mode=\"percent\", decimals=1),\n",
    ")\n",
    "print(\"Wrote:\", out)\n"
   ]
  },
  {
   "cell_type": "code",
   "execution_count": 0,
   "metadata": {
    "application/vnd.databricks.v1+cell": {
     "cellMetadata": {
      "byteLimit": 2048000,
      "rowLimit": 10000
     },
     "inputWidgets": {},
     "nuid": "832fca4c-e21a-467c-ad43-916651a51a96",
     "showTitle": false,
     "tableResultSettingsMap": {},
     "title": ""
    }
   },
   "outputs": [],
   "source": [
    "import pandas as pd\n",
    "from surveytools.report_assistant import export_single_question, save_overall_chart\n",
    "\n",
    "# df = ... load your real dataframe ...\n",
    "\n",
    "# Save per-question summary to an Excel sheet:\n",
    "path, table = export_single_question(\n",
    "    df,\n",
    "    question=\"Q1 Satisfaction (general)\",\n",
    "    groups=[\"gender (demographics)\"],\n",
    "    filename=\"Summary.xlsx\"\n",
    ")\n",
    "print(\"Wrote:\", path)\n",
    "display(table.head())  # optional\n",
    "\n",
    "# Save a simple overall chart for that question:\n",
    "png = save_overall_chart(df, \"Q1 Satisfaction (general)\", path=\"overall_q1.png\")\n",
    "print(\"Chart saved:\", png)\n"
   ]
  },
  {
   "cell_type": "code",
   "execution_count": 0,
   "metadata": {
    "application/vnd.databricks.v1+cell": {
     "cellMetadata": {
      "byteLimit": 2048000,
      "rowLimit": 10000
     },
     "inputWidgets": {},
     "nuid": "c29c880f-5d48-4704-851f-3b1c7a3acc78",
     "showTitle": false,
     "tableResultSettingsMap": {},
     "title": ""
    }
   },
   "outputs": [],
   "source": [
    "%cd /Workspace/teams/survey_team/Core_automation/Correct\\ code/surveytools\n",
    "%pip install -e \".[widgets]\"\n"
   ]
  },
  {
   "cell_type": "code",
   "execution_count": 0,
   "metadata": {
    "application/vnd.databricks.v1+cell": {
     "cellMetadata": {
      "byteLimit": 2048000,
      "rowLimit": 10000
     },
     "inputWidgets": {},
     "nuid": "83be9803-0ae1-43f5-9ca5-a4b903860ebe",
     "showTitle": false,
     "tableResultSettingsMap": {},
     "title": ""
    }
   },
   "outputs": [],
   "source": [
    "dbutils.library.restartPython()"
   ]
  },
  {
   "cell_type": "code",
   "execution_count": 0,
   "metadata": {
    "application/vnd.databricks.v1+cell": {
     "cellMetadata": {
      "byteLimit": 2048000,
      "rowLimit": 10000
     },
     "inputWidgets": {},
     "nuid": "b3d74c75-71b3-42b0-9d56-a66c9701d9f1",
     "showTitle": false,
     "tableResultSettingsMap": {},
     "title": ""
    }
   },
   "outputs": [],
   "source": [
    "%sh surveytools --help\n"
   ]
  },
  {
   "cell_type": "code",
   "execution_count": 0,
   "metadata": {
    "application/vnd.databricks.v1+cell": {
     "cellMetadata": {
      "byteLimit": 2048000,
      "rowLimit": 10000
     },
     "inputWidgets": {},
     "nuid": "bbf00680-681f-4f47-b21e-731db3a888d9",
     "showTitle": false,
     "tableResultSettingsMap": {},
     "title": ""
    }
   },
   "outputs": [],
   "source": [
    "%sh python -m surveytools.cli --help\n"
   ]
  },
  {
   "cell_type": "code",
   "execution_count": 0,
   "metadata": {
    "application/vnd.databricks.v1+cell": {
     "cellMetadata": {
      "byteLimit": 2048000,
      "rowLimit": 10000
     },
     "inputWidgets": {},
     "nuid": "9c584455-ded1-4e87-bfdf-ffb05cf3445a",
     "showTitle": false,
     "tableResultSettingsMap": {},
     "title": ""
    }
   },
   "outputs": [],
   "source": [
    "%sh ls -l \"/Workspace/teams/survey_team/Core_automation/Correct code/surveytools/src/surveytools\"\n"
   ]
  },
  {
   "cell_type": "code",
   "execution_count": 0,
   "metadata": {
    "application/vnd.databricks.v1+cell": {
     "cellMetadata": {
      "byteLimit": 2048000,
      "rowLimit": 10000
     },
     "inputWidgets": {},
     "nuid": "b84d8250-6559-4556-9963-861c3f2997c7",
     "showTitle": false,
     "tableResultSettingsMap": {},
     "title": ""
    }
   },
   "outputs": [],
   "source": [
    "%cd /Workspace/teams/survey_team/Core_automation/Correct\\ code/surveytools\n",
    "%pip uninstall -y surveytools\n",
    "%pip install -e \".[widgets]\"\n"
   ]
  },
  {
   "cell_type": "code",
   "execution_count": 0,
   "metadata": {
    "application/vnd.databricks.v1+cell": {
     "cellMetadata": {
      "byteLimit": 2048000,
      "rowLimit": 10000
     },
     "inputWidgets": {},
     "nuid": "a265b4d6-f22a-4e41-ac86-c7254f415639",
     "showTitle": false,
     "tableResultSettingsMap": {},
     "title": ""
    }
   },
   "outputs": [],
   "source": [
    "%cd /Workspace/teams/survey_team/Core_automation/Correct\\ code/surveytools\n"
   ]
  },
  {
   "cell_type": "code",
   "execution_count": 0,
   "metadata": {
    "application/vnd.databricks.v1+cell": {
     "cellMetadata": {
      "byteLimit": 2048000,
      "rowLimit": 10000
     },
     "inputWidgets": {},
     "nuid": "bc26d611-6a22-4030-a358-93ba2f164057",
     "showTitle": false,
     "tableResultSettingsMap": {},
     "title": ""
    }
   },
   "outputs": [],
   "source": [
    "%%sh\n",
    "ls -l\n",
    "test -f pyproject.toml && echo \"✅ pyproject.toml found\" || echo \"❌ pyproject.toml missing\"\n"
   ]
  },
  {
   "cell_type": "code",
   "execution_count": 0,
   "metadata": {
    "application/vnd.databricks.v1+cell": {
     "cellMetadata": {
      "byteLimit": 2048000,
      "rowLimit": 10000
     },
     "inputWidgets": {},
     "nuid": "e7816618-c72f-45e7-9561-db353ee6814a",
     "showTitle": false,
     "tableResultSettingsMap": {},
     "title": ""
    }
   },
   "outputs": [],
   "source": [
    "%pip uninstall -y surveytools\n",
    "%pip install -e \".[widgets]\"\n",
    "# Click \"Restart Python\" if prompted\n"
   ]
  },
  {
   "cell_type": "code",
   "execution_count": 0,
   "metadata": {
    "application/vnd.databricks.v1+cell": {
     "cellMetadata": {
      "byteLimit": 2048000,
      "rowLimit": 10000
     },
     "inputWidgets": {},
     "nuid": "1a5d979a-e11e-482a-b336-8238767af1a1",
     "showTitle": false,
     "tableResultSettingsMap": {},
     "title": ""
    }
   },
   "outputs": [],
   "source": [
    "dbutils.library.restartPython()"
   ]
  },
  {
   "cell_type": "code",
   "execution_count": 0,
   "metadata": {
    "application/vnd.databricks.v1+cell": {
     "cellMetadata": {
      "byteLimit": 2048000,
      "rowLimit": 10000
     },
     "inputWidgets": {},
     "nuid": "a4374dfa-a71e-48e4-85fc-71d93b5f65ce",
     "showTitle": false,
     "tableResultSettingsMap": {},
     "title": ""
    }
   },
   "outputs": [],
   "source": [
    "import pkgutil, pathlib\n",
    "print(\"Found 'surveytools':\", bool(pkgutil.find_loader(\"surveytools\")))\n",
    "import surveytools\n",
    "print(\"surveytools loaded from:\", surveytools.__file__)\n",
    "print(\"cli.py present:\", (pathlib.Path(surveytools.__file__).parent / \"cli.py\").exists())\n"
   ]
  },
  {
   "cell_type": "code",
   "execution_count": 0,
   "metadata": {
    "application/vnd.databricks.v1+cell": {
     "cellMetadata": {
      "byteLimit": 2048000,
      "rowLimit": 10000
     },
     "inputWidgets": {},
     "nuid": "05a0828d-e00a-4b22-8bce-66a56386f876",
     "showTitle": false,
     "tableResultSettingsMap": {},
     "title": ""
    }
   },
   "outputs": [],
   "source": [
    "# --- bootstrap so 'surveytools' is importable in this notebook ---\n",
    "import sys\n",
    "SRC = \"/Workspace/teams/survey_team/Core_automation/Correct code/surveytools/src\"\n",
    "if SRC not in sys.path:\n",
    "    sys.path.insert(0, SRC)\n",
    "\n",
    "# sanity check\n",
    "import importlib.util\n",
    "print(\"surveytools spec:\", importlib.util.find_spec(\"surveytools\"))\n",
    "\n"
   ]
  },
  {
   "cell_type": "code",
   "execution_count": 0,
   "metadata": {
    "application/vnd.databricks.v1+cell": {
     "cellMetadata": {
      "byteLimit": 2048000,
      "rowLimit": 10000
     },
     "inputWidgets": {},
     "nuid": "bd79b39b-d709-46c2-b132-81164aad4e70",
     "showTitle": false,
     "tableResultSettingsMap": {},
     "title": ""
    }
   },
   "outputs": [],
   "source": [
    "from surveytools.types import SummaryConfig\n",
    "from surveytools.summarize import TableSummarizer\n"
   ]
  },
  {
   "cell_type": "code",
   "execution_count": 0,
   "metadata": {
    "application/vnd.databricks.v1+cell": {
     "cellMetadata": {
      "byteLimit": 2048000,
      "rowLimit": 10000
     },
     "inputWidgets": {},
     "nuid": "31320ca0-374c-416e-884c-f624748508ce",
     "showTitle": false,
     "tableResultSettingsMap": {},
     "title": ""
    }
   },
   "outputs": [],
   "source": [
    "import site, os, pathlib\n",
    "\n",
    "src = \"/Workspace/teams/survey_team/Core_automation/Correct code/surveytools/src\"\n",
    "site_pkgs = site.getsitepackages()\n",
    "print(\"site-packages:\", site_pkgs)\n",
    "\n",
    "pth_path = pathlib.Path(site_pkgs[0]) / \"surveytools_src.pth\"\n",
    "with open(pth_path, \"w\", encoding=\"utf-8\") as f:\n",
    "    f.write(src + os.linesep)\n",
    "\n",
    "print(\"Wrote\", pth_path)\n",
    "\n",
    "# verify a clean import without manual sys.path edits\n",
    "import importlib, sys\n",
    "if src in sys.path:\n",
    "    sys.path.remove(src)  # prove it works from .pth\n",
    "print(\"spec after .pth:\", importlib.util.find_spec(\"surveytools\"))\n"
   ]
  },
  {
   "cell_type": "code",
   "execution_count": 0,
   "metadata": {
    "application/vnd.databricks.v1+cell": {
     "cellMetadata": {
      "byteLimit": 2048000,
      "rowLimit": 10000
     },
     "inputWidgets": {},
     "nuid": "a9e59b08-51ea-4a8e-81bf-006e2a075349",
     "showTitle": false,
     "tableResultSettingsMap": {},
     "title": ""
    }
   },
   "outputs": [],
   "source": [
    "%%sh\n",
    "python - << 'PY'\n",
    "import sys, site, pprint\n",
    "print(\"sys.executable:\", sys.executable)\n",
    "print(\"sys.version:\", sys.version)\n",
    "print(\"site.getsitepackages():\")\n",
    "pprint.pprint(site.getsitepackages())\n",
    "print(\"sys.path[0:5]:\")\n",
    "pprint.pprint(sys.path[:5])\n",
    "PY\n"
   ]
  },
  {
   "cell_type": "code",
   "execution_count": 0,
   "metadata": {
    "application/vnd.databricks.v1+cell": {
     "cellMetadata": {
      "byteLimit": 2048000,
      "rowLimit": 10000
     },
     "inputWidgets": {},
     "nuid": "e8262467-8010-442c-b9dd-da5993d0eea1",
     "showTitle": false,
     "tableResultSettingsMap": {},
     "title": ""
    }
   },
   "outputs": [],
   "source": [
    "import site, os, pathlib\n",
    "\n",
    "# path to your source folder\n",
    "src = \"/Workspace/teams/survey_team/Core_automation/Correct code/surveytools/src\"\n",
    "\n",
    "# write a .pth file into the environment’s site-packages\n",
    "pth_path = pathlib.Path(site.getsitepackages()[0]) / \"surveytools_src.pth\"\n",
    "with open(pth_path, \"w\", encoding=\"utf-8\") as f:\n",
    "    f.write(src + os.linesep)\n",
    "\n",
    "print(\"✅ Wrote\", pth_path)\n",
    "\n",
    "# verify import now works without manually editing sys.path\n",
    "import importlib.util\n",
    "print(\"surveytools spec:\", importlib.util.find_spec(\"surveytools\"))\n"
   ]
  },
  {
   "cell_type": "code",
   "execution_count": 0,
   "metadata": {
    "application/vnd.databricks.v1+cell": {
     "cellMetadata": {
      "byteLimit": 2048000,
      "rowLimit": 10000
     },
     "inputWidgets": {},
     "nuid": "948a29a8-9776-4369-a16a-990c30c5292e",
     "showTitle": false,
     "tableResultSettingsMap": {},
     "title": ""
    }
   },
   "outputs": [],
   "source": [
    "from surveytools.types import SummaryConfig\n",
    "from surveytools.summarize import TableSummarizer\n",
    "print(\"✅ surveytools imported successfully\")\n"
   ]
  },
  {
   "cell_type": "code",
   "execution_count": 0,
   "metadata": {
    "application/vnd.databricks.v1+cell": {
     "cellMetadata": {
      "byteLimit": 2048000,
      "rowLimit": 10000
     },
     "inputWidgets": {},
     "nuid": "5a4dbb8e-681d-4d3f-945e-902b18fc7aae",
     "showTitle": false,
     "tableResultSettingsMap": {},
     "title": ""
    }
   },
   "outputs": [],
   "source": [
    "%%sh\n",
    "python -m surveytools.cli --help\n"
   ]
  },
  {
   "cell_type": "code",
   "execution_count": 0,
   "metadata": {
    "application/vnd.databricks.v1+cell": {
     "cellMetadata": {
      "byteLimit": 2048000,
      "rowLimit": 10000
     },
     "inputWidgets": {},
     "nuid": "8cdbdc69-920d-4648-812c-fc2f33c25f1f",
     "showTitle": false,
     "tableResultSettingsMap": {},
     "title": ""
    }
   },
   "outputs": [],
   "source": [
    "import pandas as pd, os\n",
    "\n",
    "os.makedirs(\"/local_disk0/tmp\", exist_ok=True)\n",
    "\n",
    "df = pd.DataFrame({\n",
    "    \"Q1 Satisfaction: 1\": [\"Very satisfied\",\"Satisfied\",\"Neutral\",\"Satisfied\",\"Very satisfied\"],\n",
    "    \"Q2 Multi\": [\"A|B\",\"A\",\"B|C\",\"A|C\",\"A\"],\n",
    "    \"gender (demographics)\": [\"Female\",\"Male\",\"Female\",\"Female\",\"Male\"],\n",
    "})\n",
    "sample_in = \"/local_disk0/tmp/sample_survey.xlsx\"\n",
    "df.to_excel(sample_in, index=False)\n",
    "print(\"Wrote sample:\", sample_in)\n"
   ]
  },
  {
   "cell_type": "code",
   "execution_count": 0,
   "metadata": {
    "application/vnd.databricks.v1+cell": {
     "cellMetadata": {
      "byteLimit": 2048000,
      "rowLimit": 10000
     },
     "inputWidgets": {},
     "nuid": "50f59767-2836-41ae-a986-55ee9a174410",
     "showTitle": false,
     "tableResultSettingsMap": {},
     "title": ""
    }
   },
   "outputs": [],
   "source": [
    "%%sh\n",
    "python -m surveytools.cli \\\n",
    "  --input /local_disk0/tmp/sample_survey.xlsx \\\n",
    "  --output /local_disk0/tmp/summary.xlsx \\\n",
    "  --groups \"gender (demographics)\" \\\n",
    "  --charts-dir /local_disk0/tmp/charts \\\n",
    "  --verbose\n"
   ]
  }
 ],
 "metadata": {
  "application/vnd.databricks.v1+notebook": {
   "computePreferences": null,
   "dashboards": [],
   "environmentMetadata": {
    "base_environment": "",
    "environment_version": "4"
   },
   "inputWidgetPreferences": null,
   "language": "python",
   "notebookMetadata": {
    "mostRecentlyExecutedCommandWithImplicitDF": {
     "commandId": 8324560374519796,
     "dataframes": [
      "_sqldf"
     ]
    },
    "pythonIndentUnit": 4
   },
   "notebookName": "run_surveytools",
   "widgets": {}
  },
  "language_info": {
   "name": "python"
  }
 },
 "nbformat": 4,
 "nbformat_minor": 0
}
